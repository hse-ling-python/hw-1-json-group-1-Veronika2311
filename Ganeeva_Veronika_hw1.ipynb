{
 "cells": [
  {
   "cell_type": "markdown",
   "metadata": {},
   "source": [
    "# Обработка корпуса твитов\n",
    "\n",
    "*hw1.py - полное задание, сделанное в формате .py, с комментариями, так как я не уверена, что в jupyter получится хорошо*\n"
   ]
  },
  {
   "cell_type": "markdown",
   "metadata": {},
   "source": [
    "0. Подготовка, импорт всего необходимого, чтение файла:\n",
    "\n",
    "*файл должен лежать в одной папке с программой*"
   ]
  },
  {
   "cell_type": "code",
   "execution_count": 51,
   "metadata": {},
   "outputs": [],
   "source": [
    "import collections\n",
    "import json\n",
    "import re\n",
    "from string import punctuation as punct\n",
    "\n",
    "twitter = []\n",
    "for line in open('hw_3_twitter.json'):\n",
    "    twitter.append(json.loads(line))"
   ]
  },
  {
   "cell_type": "markdown",
   "metadata": {},
   "source": [
    "1. Задание первое. Так как одна строка получившегося списка содержит информацию об одном твите, можно подсчитать длину списка:"
   ]
  },
  {
   "cell_type": "code",
   "execution_count": 54,
   "metadata": {
    "scrolled": true
   },
   "outputs": [
    {
     "name": "stdout",
     "output_type": "stream",
     "text": [
      "Количество твитов в коллекции: 2556\n"
     ]
    }
   ],
   "source": [
    "print('Количество твитов в коллекции: ' + str(len(twitter)))"
   ]
  },
  {
   "cell_type": "markdown",
   "metadata": {},
   "source": [
    "2. Задание второе. Подсчёт процента удалённых твитов по отношению ко всем твитам:"
   ]
  },
  {
   "cell_type": "code",
   "execution_count": 53,
   "metadata": {},
   "outputs": [
    {
     "name": "stdout",
     "output_type": "stream",
     "text": [
      "14.162754303599375\n"
     ]
    }
   ],
   "source": [
    "number_of_delete = 0\n",
    "for tweet in twitter:\n",
    "    for keys in tweet:\n",
    "        if 'delete' in keys:\n",
    "            number_of_delete = number_of_delete + 1\n",
    "percent_of_delete = number_of_delete/(len(twitter)/100)\n",
    "print(percent_of_delete)"
   ]
  },
  {
   "cell_type": "markdown",
   "metadata": {},
   "source": [
    "3. Задание третье. Частотный словарь из языков твитов; поскольку языков не так много, выведен весь:"
   ]
  },
  {
   "cell_type": "code",
   "execution_count": 26,
   "metadata": {},
   "outputs": [
    {
     "name": "stdout",
     "output_type": "stream",
     "text": [
      "{'en': 719, 'ar': 119, 'es': 173, 'el': 3, 'ja': 438, 'fa': 8, 'th': 123, 'ko': 149, 'fr': 35, 'tr': 30, 'in': 71, 'pt': 69, 'ta': 4, 'is': 1, 'und': 117, 'ur': 6, 'nl': 6, 'de': 6, 'tl': 29, 'ru': 15, 'ca': 7, 'hi': 23, 'eu': 2, 'cy': 2, 'it': 4, 'fi': 3, 'ht': 4, 'et': 4, 'bg': 2, 'uk': 1, 'vi': 3, 'pl': 4, 'zh': 8, 'iw': 1, 'lv': 1, 'sv': 1, 'da': 1, 'no': 1, 'hu': 1}\n"
     ]
    }
   ],
   "source": [
    "twitter = []\n",
    "for line in open('hw_3_twitter.json'):\n",
    "    twitter.append(json.loads(line))\n",
    "langs = []\n",
    "for tweet in twitter:\n",
    "    for keys in tweet:\n",
    "        if 'lang' in keys:\n",
    "            langs.append(tweet['lang'])\n",
    "counter_langs = dict(collections.Counter(langs))\n",
    "print(counter_langs)"
   ]
  },
  {
   "cell_type": "markdown",
   "metadata": {},
   "source": [
    "4. Задание четвёртое. Количество пользователей, написавших более одного твита. Включает как обычные твиты, так и удалённые. То есть учитываются и те пользователи, которые написали несколько твитов, а потом удалили все или все, кроме одного:"
   ]
  },
  {
   "cell_type": "code",
   "execution_count": 58,
   "metadata": {},
   "outputs": [
    {
     "name": "stdout",
     "output_type": "stream",
     "text": [
      "66\n"
     ]
    }
   ],
   "source": [
    "ids = []\n",
    "for tweet in twitter:\n",
    "    if 'user' in tweet:\n",
    "        user_of_tw = tweet['user']\n",
    "        if 'id_str' in user_of_tw:\n",
    "            ids.append(user_of_tw['id_str'])\n",
    "\n",
    "    if 'delete' in tweet:\n",
    "        deleted_status = tweet['delete']\n",
    "        if 'status' in deleted_status:\n",
    "            status_of_tw = deleted_status['status']\n",
    "            if 'user_id_str' in status_of_tw:\n",
    "                ids.append(status_of_tw['user_id_str'])\n",
    "\n",
    "counter_ids = dict(collections.Counter(ids))\n",
    "\n",
    "active_users = {}\n",
    "for tweet_users, num_tweets in counter_ids.items():\n",
    "    if num_tweets > 1:\n",
    "        active_users[tweet_users] = num_tweets\n",
    "\n",
    "print(len(active_users))"
   ]
  },
  {
   "cell_type": "markdown",
   "metadata": {},
   "source": [
    "4а. Количество пользователей, написавших более одного неудалённого твита:"
   ]
  },
  {
   "cell_type": "code",
   "execution_count": 59,
   "metadata": {
    "scrolled": true
   },
   "outputs": [
    {
     "name": "stdout",
     "output_type": "stream",
     "text": [
      "25\n"
     ]
    }
   ],
   "source": [
    "ids = []\n",
    "for tweet in twitter:\n",
    "    if 'user' in tweet:\n",
    "        user_of_tw = tweet['user']\n",
    "        if 'id_str' in user_of_tw:\n",
    "            ids.append(user_of_tw['id_str'])\n",
    "\n",
    "counter_ids = dict(collections.Counter(ids))\n",
    "\n",
    "active_users = {}\n",
    "for tweet_users, num_tweets in counter_ids.items():\n",
    "    if num_tweets > 1:\n",
    "        active_users[tweet_users] = num_tweets\n",
    "\n",
    "print(len(active_users))"
   ]
  },
  {
   "cell_type": "markdown",
   "metadata": {},
   "source": [
    "5. Задание пятое. Самые популярные хэштеги. Частотность считается для всех, но выводится топ-20 отсортированных по количеству:"
   ]
  },
  {
   "cell_type": "code",
   "execution_count": 35,
   "metadata": {},
   "outputs": [
    {
     "name": "stdout",
     "output_type": "stream",
     "text": [
      "[('BTS', 17), ('방탄소년단', 13), ('AMAs', 11), ('人気投票ガチャ', 8), ('태형', 7), ('뷔', 6), ('BTSinChicago', 5), ('BTSLoveYourselfTour', 5), ('오늘의방탄', 5), ('PledgeForSwachhBharat', 5), ('MPN', 5), ('PCAs', 4), ('V', 4), ('시카고1회차공연', 4), ('เป๊กผลิตโชค', 4), ('JIMIN', 4), ('running', 3), ('NCT', 3), ('지민', 3), ('WajahmuPlastik', 3)]\n"
     ]
    }
   ],
   "source": [
    "tags = []\n",
    "\n",
    "for tweet in twitter:\n",
    "    if 'entities' in tweet:\n",
    "        entities = tweet['entities']\n",
    "        if 'hashtags' in entities:\n",
    "            hashtags = entities['hashtags']\n",
    "            for htag in hashtags:\n",
    "                if 'text' in htag:\n",
    "                    tags.append(htag['text'])\n",
    "\n",
    "counter_tags = dict(collections.Counter(tags))\n",
    "top_tags = []\n",
    "for key in sorted(counter_tags, key=counter_tags.get, reverse=True):\n",
    "    top_tags.append((key, counter_tags[key]))\n",
    "\n",
    "print(top_tags[0:20:])"
   ]
  },
  {
   "cell_type": "markdown",
   "metadata": {},
   "source": [
    "6. Задание шестое. Частотный словарь не-ретвитов на английском. Язык определяется через поле 'lang', ретвиты отсеиваются с помощью начала текста. Если у твита есть полный текст, то обрабатывается он, если твит короткий - просто текст. Частотный словарь полный, вывод - первые 20"
   ]
  },
  {
   "cell_type": "code",
   "execution_count": 36,
   "metadata": {},
   "outputs": [
    {
     "name": "stdout",
     "output_type": "stream",
     "text": [
      "[('the', 153), ('to', 104), ('a', 86), ('i', 79), ('and', 75), ('is', 60), ('of', 57), ('you', 56), ('it', 54), ('for', 46), ('in', 46), ('that', 39), ('this', 33), ('my', 31), ('be', 30), ('on', 30), ('me', 27), ('with', 25), ('are', 24), ('what', 22)]\n"
     ]
    }
   ],
   "source": [
    "words = []\n",
    "\n",
    "for tweet in twitter:\n",
    "    if 'lang' in tweet:\n",
    "        if tweet['lang'] == 'en':\n",
    "            if 'text' in tweet:\n",
    "                text = tweet['text']\n",
    "                if not text.startswith('RT @'):\n",
    "                    if 'extended_tweet' in tweet:\n",
    "                        if 'full_text' in tweet['extended_tweet']:\n",
    "                            text = tweet['extended_tweet']['full_text']\n",
    "\n",
    "                    spl_tweet = text.split(' ')\n",
    "                    for word in spl_tweet:\n",
    "                        word = word.strip(punct)\n",
    "                        word = word.lower()\n",
    "                        if word:\n",
    "                            words.append(word)\n",
    "\n",
    "top_words = []\n",
    "freq_words = dict(collections.Counter(words))\n",
    "for key in sorted(freq_words, key=freq_words.get, reverse=True):\n",
    "    top_words.append((key, freq_words[key]))\n",
    "\n",
    "print(top_words[0:20:])"
   ]
  },
  {
   "cell_type": "markdown",
   "metadata": {},
   "source": [
    "7. Задание седьмое. Количество подписчиков у пользователей. Считается по id пользователя только у неудалённых твитов. Выводится топ-10, первый элемент - id пользователя, второй - количество подписчиков"
   ]
  },
  {
   "cell_type": "code",
   "execution_count": 40,
   "metadata": {},
   "outputs": [
    {
     "name": "stdout",
     "output_type": "stream",
     "text": [
      "[('262389559', 2521403), ('14562016', 1491309), ('18040230', 1206759), ('1435461', 1137374), ('290401936', 625463), ('234419133', 392472), ('20689749', 383698), ('223282435', 374222), ('634594307', 318189), ('399622781', 311319)]\n"
     ]
    }
   ],
   "source": [
    "follow_count = {}\n",
    "for tweet in twitter:\n",
    "    if 'user' in tweet:\n",
    "        user_of_tw = tweet['user']\n",
    "        if 'id_str' in user_of_tw:\n",
    "            user_id = user_of_tw['id_str']\n",
    "            if 'followers_count' in user_of_tw:\n",
    "                follow_count[user_id] = user_of_tw['followers_count']\n",
    "\n",
    "top_users = []\n",
    "for key in sorted(follow_count, key=follow_count.get, reverse=True):\n",
    "    top_users.append((key, follow_count[key]))\n",
    "\n",
    "print(top_users[0:10:])"
   ]
  },
  {
   "cell_type": "markdown",
   "metadata": {},
   "source": [
    "8. Задание восьмое. Приложение, из которого отправлен твит, ищется с помощью регулярного выражения в значении 'source'.  Выводится топ-20:"
   ]
  },
  {
   "cell_type": "code",
   "execution_count": 41,
   "metadata": {},
   "outputs": [
    {
     "name": "stdout",
     "output_type": "stream",
     "text": [
      "[('Twitter for iPhone', 800), ('Twitter for Android', 695), ('Twitter Web Client', 140), ('twittbot.net', 122), ('Twitter Lite', 51), ('Twitter for iPad', 28), ('TweetDeck', 23), ('Facebook', 17), ('IFTTT', 14), ('تطبيق قرآني', 10), ('dlvr.it', 10), ('Buffer', 8), ('Google', 8), ('autotweety.net', 7), ('Hootsuite Inc.', 7), ('WordPress.com', 6), ('Twittascope', 6), ('Botbird tweets', 6), ('تطبيق دعـاء', 5), ('Zapier.com', 5)]\n"
     ]
    }
   ],
   "source": [
    "apps = []\n",
    "for tweet in twitter:\n",
    "    if 'source' in tweet:\n",
    "        app = (re.search('<a href.+?>(.+?)</a>', tweet['source'])).group(1)\n",
    "        apps.append(app)\n",
    "\n",
    "top_of_apps = []\n",
    "freq_apps = dict(collections.Counter(apps))\n",
    "for key in sorted(freq_apps, key=freq_apps.get, reverse=True):\n",
    "    top_of_apps.append((key, freq_apps[key]))\n",
    "\n",
    "print(top_of_apps[0:20])"
   ]
  }
 ],
 "metadata": {
  "kernelspec": {
   "display_name": "Python 3",
   "language": "python",
   "name": "python3"
  },
  "language_info": {
   "codemirror_mode": {
    "name": "ipython",
    "version": 3
   },
   "file_extension": ".py",
   "mimetype": "text/x-python",
   "name": "python",
   "nbconvert_exporter": "python",
   "pygments_lexer": "ipython3",
   "version": "3.7.3"
  }
 },
 "nbformat": 4,
 "nbformat_minor": 2
}
